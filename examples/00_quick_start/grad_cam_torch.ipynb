{
 "cells": [
  {
   "cell_type": "code",
   "execution_count": null,
   "metadata": {},
   "outputs": [],
   "source": []
  }
 ],
 "metadata": {
  "kernelspec": {
   "display_name": "Python 3.8.6 ('wysely-api-cAnZyTf--py3.8')",
   "language": "python",
   "name": "python3"
  },
  "language_info": {
   "name": "python",
   "version": "3.8.6"
  },
  "orig_nbformat": 4,
  "vscode": {
   "interpreter": {
    "hash": "77325d474960980fbd29ea8016bf19454897cee21e93efdca60866da6cc6e30a"
   }
  }
 },
 "nbformat": 4,
 "nbformat_minor": 2
}

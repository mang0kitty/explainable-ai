{
 "cells": [
  {
   "cell_type": "markdown",
   "metadata": {},
   "source": [
    "## LIME (Local Interpretable Model-agnostic)"
   ]
  },
  {
   "cell_type": "markdown",
   "metadata": {},
   "source": [
    "Local Interpretable Model-agnostic Explanations is the acronym for LIME. It is a method of visualization that aids in the explanation of certain predictions. It may be used with any supervised regression or classification model because it is model independent (explaining the working of machine learning and deep learning models). Marco Tulio Ribeiro, Sameer Singh, and Carlos Guestrin presented LIME in 2016. It is applicable to both organized and unstructured information, including text and picture data. The official [repository](https://github.com/marcotcr/lime) supports the [documentation](https://lime-ml.readthedocs.io/en/latest/lime.html#) for understanding the different modules it provides.\n",
    "\n",
    "Black box machine learning models are used to explain specific predictions using local surrogate models, which are interpretable models. In the above study Local interpretable model-agnostic explanations (LIME), the authors suggest a practical use of local surrogate models. In order to approximate the predictions of the underlying black box model, substitute models are developed. LIME focuses on training local surrogate models to explain specific predictions rather than creating a global surrogate model. LIME operates on the presumption that all complicated models are linear on a local scale. LIME attempts to fit a straightforward model to a single observation that will replicate the local behavior of the global model.\n",
    "\n",
    "By examining the internal workings and interactions of the black-box machine learning models, model-specific approaches seek to comprehend it. Local model interpretability is offered by LIME. LIME adjusts the feature values for a single data sample and tracks the effect on the output. What factors led to this forecast or why was it made is likely the most frequently asked question.\n",
    "\n",
    "The predictions of the more sophisticated model may then be locally explained using the basic model. Three different input formats are supported by LIME: tabular data, text data, and picture data."
   ]
  },
  {
   "cell_type": "markdown",
   "metadata": {},
   "source": [
    "#### Intro to surrogate models\n",
    "\n",
    "Local surrogate models with an interpretability restriction can be represented as follows:\n",
    "\n",
    "$$ explanation(x) = {\\arg \\underset{g∈G}minL(f,g, π_{x})+Ω_{g}} $$\n",
    "\n",
    "The model g (for example, a linear regression model) that minimizes loss L (for example, mean squared error), which assesses how closely the explanation matches the prediction of the original model f (for example, an xgboost model), is the explanation model for example x. Model complexity is also kept to a minimum (e.g. prefer fewer features). The family of explanations known as G includes, for instance, all potential linear regression models. The proximity measure specifies the size of the area surrounding instance x that we take into account while providing an explanation. In reality, LIME just improves the loss component. The user must choose the maximum amount of features the linear regression model may employ, for example, in order to define the complexity."
   ]
  },
  {
   "cell_type": "markdown",
   "metadata": {},
   "source": [
    "#### How LIME works\n",
    "\n",
    "- To explain the observation, disrupt (unset or disturb) it n times to provide duplicated feature data with minimal value changes. The false data that has been generated around the observation for LIME to employ in creating the local linear model is the perturbed data.\n",
    "- Forecast the results of the perturbed data.\n",
    "- Determine the separation between each disturbed data point and the initial observation.\n",
    "- The distance has to be calculated based on a similarity score\n",
    "- Choose m features from the perturbed data that best represent the predictions.\n",
    "- To account for the chosen characteristics in the perturbed data, fit a basic model.\n",
    "- The basic model's feature weights (coefficients) provide as an explanation for the observation.\n",
    "\n",
    "With simple words, LIME investigates what happens to the predictions when we alter the data that the machine learning model is fed. So, LIME creates a new dataset made up of converted samples and the matching black-box model predictions. Based on the new dataset, a new model is trained which is interpretable.\n",
    "\n",
    "The aim is to comprehend why a certain prediction was produced by the machine learning model. When different versions of the data are fed into the machine learning model, LIME examines what happens to the predictions. LIME creates the related black box model predictions with the use of the brand-new dataset. The weighting of the interpretable model that LIME trains on this new dataset is based on how close the sampled examples are to the instance of interest. Any model from the chapter on interpretable models, such as Lasso or a decision tree, may be used as the interpretable model. Locally, the learnt model should be a good approximation of the predictions made by the machine learning model; however, a good global approximation is not required.\n",
    "\n",
    "Locally, the learned model should be a good approximation of the predictions made by the machine learning model; however, a good global approximation is not required. Another name for this level of accuracy is \"local fidelity\".\n",
    "\n",
    "LIME treats continuous data differently than it does for categorical variables. The perturbed data for categorical variables will have binary values of 0 or 1. If the perturbed item matches the observation that has to be explained, the value will be 1, otherwise it will be 0.\n"
   ]
  },
  {
   "cell_type": "markdown",
   "metadata": {},
   "source": [
    "#### Tuning Lime\n",
    "\n",
    "Lime can be tuned for features:\n",
    "\n",
    "• LIME builds a local linear model with the amount of features you provide.\n",
    "• Depending on how complicated the model is and how straightforward an explanation is needed, the user can adjust the amount of features.\n",
    "\n",
    "(methods that are supported for feature selection are: \"Highest Weights\", \"Forward Selection\", \"Lasso Path\", \"none\", \"auto\")\n",
    "and for samples:\n",
    "\n",
    "• LIME gives the user the option to fine-tune how many samples should be generated for the perturbed data. (5000 is the default)\n",
    "• The parameter can be set to various sample sizes for example 1000, 5000, and 10000."
   ]
  },
  {
   "cell_type": "markdown",
   "metadata": {},
   "source": [
    "### Import the needed libraries"
   ]
  },
  {
   "cell_type": "code",
   "execution_count": 1,
   "metadata": {},
   "outputs": [],
   "source": [
    "import lime\n",
    "import sklearn\n",
    "import numpy as np\n",
    "import sklearn.ensemble\n",
    "import sklearn.metrics\n",
    "from sklearn import datasets"
   ]
  },
  {
   "cell_type": "markdown",
   "metadata": {},
   "source": [
    "Load the iris dataset to be used as an example and train a random forest as the model to be used:"
   ]
  },
  {
   "cell_type": "code",
   "execution_count": 2,
   "metadata": {},
   "outputs": [
    {
     "name": "stdout",
     "output_type": "stream",
     "text": [
      " The model accuracy is:  0.9333333333333333\n"
     ]
    }
   ],
   "source": [
    "iris = datasets.load_iris()\n",
    "train, test, labels_train, labels_test = sklearn.model_selection.train_test_split(iris.data, iris.target, train_size=0.80)\n",
    "\n",
    "model = sklearn.ensemble.RandomForestClassifier(n_estimators=500)\n",
    "model.fit(train, labels_train)\n",
    "\n",
    "print(\" The model accuracy is: \", sklearn.metrics.accuracy_score(labels_test, model.predict(test)))\n"
   ]
  },
  {
   "cell_type": "markdown",
   "metadata": {},
   "source": [
    "### Lime explainer\n",
    "Lime's explainer needs the training set for tabular data. It needs to compute the statistics and metrics for each feature. For example, for numerical features the mean, std and quartiles are calculated. For categorical features the frequency is calculated."
   ]
  },
  {
   "cell_type": "markdown",
   "metadata": {},
   "source": [
    "##### Creation of pertubed data\n",
    "\n",
    "- LIME perturbs the input observation that needs to be explained in relation to its locale and generates a local data.\n",
    "- Continual variables are perturbed by sampling from a Normal (0,1) distribution and performing the inverse operation of mean-centering and scaling, in accordance with the means and standard deviations in the training data. Categorical variables are given random values based on the possible category values and their frequency of occurrence in the training dataset.\n",
    "- The observation that needs to be explained will always be in the first row of the perturbed data. Scaling is applied to continuous variables in the perturbed data.\n",
    "- Perturbed data for categorical variables have values of 0 or 1. (data). 0 unless the category matches the observation to be explained, then 1."
   ]
  },
  {
   "cell_type": "code",
   "execution_count": 3,
   "metadata": {},
   "outputs": [
    {
     "ename": "AttributeError",
     "evalue": "module 'lime' has no attribute 'lime_tabular'",
     "output_type": "error",
     "traceback": [
      "\u001b[0;31m---------------------------------------------------------------------------\u001b[0m",
      "\u001b[0;31mAttributeError\u001b[0m                            Traceback (most recent call last)",
      "Cell \u001b[0;32mIn [3], line 1\u001b[0m\n\u001b[0;32m----> 1\u001b[0m explainer \u001b[39m=\u001b[39m lime\u001b[39m.\u001b[39;49mlime_tabular\u001b[39m.\u001b[39mLimeTabularExplainer(train, feature_names\u001b[39m=\u001b[39miris\u001b[39m.\u001b[39mfeature_names, class_names\u001b[39m=\u001b[39miris\u001b[39m.\u001b[39mtarget_names, discretize_continuous\u001b[39m=\u001b[39m\u001b[39mTrue\u001b[39;00m)\n",
      "\u001b[0;31mAttributeError\u001b[0m: module 'lime' has no attribute 'lime_tabular'"
     ]
    }
   ],
   "source": [
    "explainer = lime.lime_tabular.LimeTabularExplainer(train, feature_names=iris.feature_names, class_names=iris.target_names, discretize_continuous=True)"
   ]
  },
  {
   "cell_type": "markdown",
   "metadata": {},
   "source": [
    "#### Drawbacks of LIME\n",
    "\n",
    "- It's possible that some \"unlikely\" data points are formed as LIME generates its own sample data based on the gaussian distribution around the location of the observation, from which the model may have learned.\n",
    "- The linear model might be unable to adequately explain the decision boundary if it is too non-linear."
   ]
  },
  {
   "cell_type": "markdown",
   "metadata": {},
   "source": [
    "## References\n",
    "\n",
    "- [\"Why Should I Trust You?\": Explaining the Predictions of Any Classifier](https://arxiv.org/abs/1602.04938)\n",
    "- [Understanding lime from cran.r-project.org](https://cran.r-project.org/web/packages/lime/vignettes/Understanding_lime.html)\n",
    "- [\"Interpretable machine learning](https://christophm.github.io/interpretable-ml-book/)"
   ]
  },
  {
   "cell_type": "code",
   "execution_count": null,
   "metadata": {},
   "outputs": [],
   "source": []
  }
 ],
 "metadata": {
  "kernelspec": {
   "display_name": "Python 3.8.6 ('.venv': venv)",
   "language": "python",
   "name": "python3"
  },
  "language_info": {
   "codemirror_mode": {
    "name": "ipython",
    "version": 3
   },
   "file_extension": ".py",
   "mimetype": "text/x-python",
   "name": "python",
   "nbconvert_exporter": "python",
   "pygments_lexer": "ipython3",
   "version": "3.8.6"
  },
  "orig_nbformat": 4,
  "vscode": {
   "interpreter": {
    "hash": "152a143c390ef6786d8202f83f996eb0759854ba3b93cfc21c98fc678cda7053"
   }
  }
 },
 "nbformat": 4,
 "nbformat_minor": 2
}

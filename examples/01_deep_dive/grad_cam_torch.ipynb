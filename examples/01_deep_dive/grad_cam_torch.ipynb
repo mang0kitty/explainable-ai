{
 "cells": [
  {
   "cell_type": "markdown",
   "metadata": {},
   "source": [
    "# Grad-Cam\n",
    "\n",
    "Grad-Cam (Gradient-weighted Class Activation Mapping) coming from this [paper](https://arxiv.org/pdf/1610.02391.pdf) and provided by this [repository](https://github.com/jacobgil/pytorch-grad-cam) is a well known XAI algorithm and was created for the VGG16 network.\n",
    "\n",
    "It gives us a tool to examine which specific aspects of the image had an impact on the overall model's choice of a given label. It is very helpful when examining samples that were incorrectly categorised. The Grad-CAM method is fairly understandable and quite easy to use.\n",
    "\n",
    "The algorithm's intuition is based on the assumption that the model must have examined a few pixels (or portions of the image) and determined what item was present there. A gradient can be used to represent influence mathematically. That is what the algorithm accomplishes in a broad sense. Finding the gradient of the most dominating logit with regard to the most recent activation map in the model is the first step."
   ]
  },
  {
   "cell_type": "markdown",
   "metadata": {},
   "source": []
  }
 ],
 "metadata": {
  "kernelspec": {
   "display_name": "Python 3.8.6 ('wysely-api-cAnZyTf--py3.8')",
   "language": "python",
   "name": "python3"
  },
  "language_info": {
   "name": "python",
   "version": "3.8.6"
  },
  "orig_nbformat": 4,
  "vscode": {
   "interpreter": {
    "hash": "77325d474960980fbd29ea8016bf19454897cee21e93efdca60866da6cc6e30a"
   }
  }
 },
 "nbformat": 4,
 "nbformat_minor": 2
}
